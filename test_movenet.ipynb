{
  "cells": [
    {
      "cell_type": "code",
      "execution_count": null,
      "metadata": {
        "id": "oBWi2q_hl46n"
      },
      "outputs": [],
      "source": [
        "## https://www.youtube.com/watch?v=SSW9LzOJSus"
      ]
    },
    {
      "cell_type": "markdown",
      "metadata": {
        "id": "3zR09exUIFUT"
      },
      "source": [
        "### Install and Load Dependencies "
      ]
    },
    {
      "cell_type": "code",
      "execution_count": null,
      "metadata": {
        "id": "Om3mYSNI2oou"
      },
      "outputs": [],
      "source": [
        "# %%capture\n",
        "# !pip install opencv-python tensorflow==2.4.1 tensorflow-gpu==2.4.1 matplotlib"
      ]
    },
    {
      "cell_type": "code",
      "execution_count": 2,
      "metadata": {
        "id": "BBYvAUNw4Ee1"
      },
      "outputs": [],
      "source": [
        "import tensorflow as tf\n",
        "import matplotlib.pyplot as plt\n",
        "import numpy as np\n",
        "import cv2\n",
        "\n",
        "# dependencies for colab webcam connection\n",
        "# from IPython.display import display, Javascript, Image\n",
        "# from google.colab.output import eval_js\n",
        "# from base64 import b64decode, b64encode\n",
        "# import PIL\n",
        "# import io\n",
        "# import html\n",
        "# import time"
      ]
    },
    {
      "cell_type": "code",
      "execution_count": 9,
      "metadata": {
        "colab": {
          "base_uri": "https://localhost:8080/"
        },
        "id": "cCfeGpauWQdl",
        "outputId": "f9058f36-93b2-44f1-8c7f-eba8c6cfc33e"
      },
      "outputs": [
        {
          "data": {
            "text/plain": [
              "('model/model.tflite', <http.client.HTTPMessage at 0x2d980089a80>)"
            ]
          },
          "execution_count": 9,
          "metadata": {},
          "output_type": "execute_result"
        }
      ],
      "source": [
        "import urllib.request\n",
        "\n",
        "url_lightning_model = \"https://tfhub.dev/google/lite-model/movenet/singlepose/lightning/3?lite-format=tflite\"\n",
        "url_thunder_model = \"https://tfhub.dev/google/lite-model/movenet/singlepose/thunder/3?lite-format=tflite\"\n",
        "\n",
        "urllib.request.urlretrieve(url_thunder_model, \"model/model.tflite\")"
      ]
    },
    {
      "cell_type": "markdown",
      "metadata": {
        "id": "bcz2rWWaIMi9"
      },
      "source": [
        "### Load Model"
      ]
    },
    {
      "cell_type": "code",
      "execution_count": 10,
      "metadata": {
        "id": "ulgjTG39IQxY"
      },
      "outputs": [],
      "source": [
        "interpreter = tf.lite.Interpreter(model_path='model/model.tflite')\n",
        "interpreter.allocate_tensors()"
      ]
    },
    {
      "cell_type": "markdown",
      "metadata": {
        "id": "jmOpiI_LjL9I"
      },
      "source": [
        "### Make Detections"
      ]
    },
    {
      "cell_type": "code",
      "execution_count": 11,
      "metadata": {
        "id": "IiY6oi-PjKVZ"
      },
      "outputs": [],
      "source": [
        "cap = cv2.VideoCapture(\"data\\customer_video\\Standing and sitting-frontal plane.mp4\")\n",
        "\n",
        "# Check if camera opened successfully\n",
        "if (cap.isOpened()== False): \n",
        "  print(\"Error opening video stream or file\")\n",
        "\n",
        "# Read until video is completed\n",
        "while(cap.isOpened()):\n",
        "  # Capture frame-by-frame\n",
        "  ret, frame = cap.read()\n",
        "  \n",
        "  if ret == True:\n",
        " \n",
        "    # Display the resulting frame\n",
        "    cv2.imshow('Frame',frame)\n",
        "\n",
        "    # reshape image\n",
        "    img = frame.copy()\n",
        "    img = tf.image.resize_with_pad(np.expand_dims(img, axis=0), 256, 256)\n",
        "    input_img = tf.cast(img, dtype=tf.float32)\n",
        "\n",
        "    # setup input & output\n",
        "    input_details = interpreter.get_input_details()\n",
        "    output_details = interpreter.get_output_details()\n",
        "\n",
        "    # make predictions\n",
        "    interpreter.set_tensor(input_details[0]['index'], np.array(input_img))\n",
        "    interpreter.invoke()\n",
        "    keypoints_with_scores = interpreter.get_tensor(output_details[0]['index'])\n",
        "    # print(keypoints_with_scores)\n",
        "\n",
        "    # render\n",
        "    draw_connections(frame, keypoints_with_scores, EDGES, 0.2)\n",
        "    draw_keypoints(frame, keypoints_with_scores, 0.2)\n",
        "\n",
        "    cv2.imshow('Movenet', frame)\n",
        "\n",
        "    # Press Q on keyboard to  exit\n",
        "    if cv2.waitKey(25) & 0xFF == ord('q'):\n",
        "      break\n",
        " \n",
        "  # Break the loop\n",
        "  else: \n",
        "    break\n",
        "\n",
        "# When everything done, release the video capture object\n",
        "cap.release()\n",
        "# Closes all the frames\n",
        "cv2.destroyAllWindows()"
      ]
    },
    {
      "cell_type": "code",
      "execution_count": 15,
      "metadata": {
        "colab": {
          "base_uri": "https://localhost:8080/"
        },
        "id": "Y77Eup3jZekz",
        "outputId": "8d9d99c9-8439-4ed7-9eb0-1710115dbc42"
      },
      "outputs": [],
      "source": [
        "# cv2.imwrite(\"test.jpg\", img) # write image\n",
        "\n",
        "# out = cv2.VideoWriter('outpy.avi',cv2.VideoWriter_fourcc('M','J','P','G'), 10, (frame_width,frame_height))"
      ]
    },
    {
      "cell_type": "markdown",
      "metadata": {},
      "source": [
        "### Draw Keypoints"
      ]
    },
    {
      "cell_type": "code",
      "execution_count": 5,
      "metadata": {},
      "outputs": [],
      "source": [
        "def draw_keypoints(frame, keypoints, confidence_threshold):\n",
        "    y, x, c = frame.shape\n",
        "    shaped = np.squeeze(np.multiply(keypoints, [y, x, 1]))\n",
        "\n",
        "    for kp in shaped:\n",
        "        ky, kx, kp_conf = kp\n",
        "        if kp_conf > confidence_threshold:\n",
        "            cv2.circle(frame, (int(kx), int(ky)), 4, (0,255,0), -1)"
      ]
    },
    {
      "cell_type": "markdown",
      "metadata": {},
      "source": [
        "### Draw Edges"
      ]
    },
    {
      "cell_type": "code",
      "execution_count": 6,
      "metadata": {},
      "outputs": [],
      "source": [
        "EDGES = {\n",
        "    (0, 1): 'm',\n",
        "    (0, 2): 'c',\n",
        "    (1, 3): 'm',\n",
        "    (2, 4): 'c',\n",
        "    (0, 5): 'm',\n",
        "    (0, 6): 'c',\n",
        "    (5, 7): 'm',\n",
        "    (7, 9): 'm',\n",
        "    (6, 8): 'c',\n",
        "    (8, 10): 'c',\n",
        "    (5, 6): 'y',\n",
        "    (5, 11): 'm',\n",
        "    (6, 12): 'c',\n",
        "    (11, 12): 'y',\n",
        "    (11, 13): 'm',\n",
        "    (13, 15): 'm',\n",
        "    (12, 14): 'c',\n",
        "    (14, 16): 'c'\n",
        "}"
      ]
    },
    {
      "cell_type": "code",
      "execution_count": 7,
      "metadata": {},
      "outputs": [],
      "source": [
        "def draw_connections(frame, keypoints, edges, confidence_threshold):\n",
        "    y, x, c = frame.shape\n",
        "    shaped = np.squeeze(np.multiply(keypoints, [y,x,1]))\n",
        "\n",
        "    for edge, color in edges.items():\n",
        "        p1, p2 = edge\n",
        "        y1, x1, c1 = shaped[p1] # get coordinates\n",
        "        y2, x2, c2 = shaped[p2]\n",
        "\n",
        "        if (c1 > confidence_threshold) & (c2 > confidence_threshold):\n",
        "            cv2.line(frame, (int(x1), int(y1)), (int(x2), int(y2)), (255,0,0), 2)"
      ]
    }
  ],
  "metadata": {
    "colab": {
      "provenance": []
    },
    "kernelspec": {
      "display_name": "Python 3.10.9 ('pose_est': venv)",
      "language": "python",
      "name": "python3"
    },
    "language_info": {
      "codemirror_mode": {
        "name": "ipython",
        "version": 3
      },
      "file_extension": ".py",
      "mimetype": "text/x-python",
      "name": "python",
      "nbconvert_exporter": "python",
      "pygments_lexer": "ipython3",
      "version": "3.10.9"
    },
    "vscode": {
      "interpreter": {
        "hash": "09a1b88b1050c0f0c9c4ce9bff55c26228d258721a3b6bf25d9e52be69e96513"
      }
    }
  },
  "nbformat": 4,
  "nbformat_minor": 0
}
